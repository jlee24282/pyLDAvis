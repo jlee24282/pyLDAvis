{
 "cells": [
  {
   "cell_type": "code",
   "execution_count": 1,
   "metadata": {
    "collapsed": false
   },
   "outputs": [
    {
     "ename": "IOError",
     "evalue": "[Errno 2] No such file or directory: 'reviews_pmc_4443_0.7.txt'",
     "traceback": [
      "\u001b[0;31m---------------------------------------------------------------------------\u001b[0m",
      "\u001b[0;31mIOError\u001b[0m                                   Traceback (most recent call last)",
      "\u001b[0;32m<ipython-input-1-62edcd9cf0da>\u001b[0m in \u001b[0;36m<module>\u001b[0;34m()\u001b[0m\n\u001b[1;32m     64\u001b[0m \u001b[0;34m\u001b[0m\u001b[0m\n\u001b[1;32m     65\u001b[0m \u001b[0;32mif\u001b[0m \u001b[0m__name__\u001b[0m \u001b[0;34m==\u001b[0m \u001b[0;34m\"__main__\"\u001b[0m\u001b[0;34m:\u001b[0m\u001b[0;34m\u001b[0m\u001b[0m\n\u001b[0;32m---> 66\u001b[0;31m     \u001b[0mlda\u001b[0m\u001b[0;34m(\u001b[0m\u001b[0;34m)\u001b[0m\u001b[0;34m\u001b[0m\u001b[0m\n\u001b[0m\u001b[1;32m     67\u001b[0m     \u001b[0;31m# test_hdp()\u001b[0m\u001b[0;34m\u001b[0m\u001b[0;34m\u001b[0m\u001b[0m\n",
      "\u001b[0;32m<ipython-input-1-62edcd9cf0da>\u001b[0m in \u001b[0;36mlda\u001b[0;34m()\u001b[0m\n\u001b[1;32m     52\u001b[0m \u001b[0;32mdef\u001b[0m \u001b[0mlda\u001b[0m\u001b[0;34m(\u001b[0m\u001b[0;34m)\u001b[0m\u001b[0;34m:\u001b[0m\u001b[0;34m\u001b[0m\u001b[0m\n\u001b[1;32m     53\u001b[0m     \u001b[0;34m\"\"\"Trains a LDA model and tests the html outputs.\"\"\"\u001b[0m\u001b[0;34m\u001b[0m\u001b[0m\n\u001b[0;32m---> 54\u001b[0;31m     \u001b[0mcorpus\u001b[0m\u001b[0;34m,\u001b[0m \u001b[0mdictionary\u001b[0m \u001b[0;34m=\u001b[0m \u001b[0mget_corpus_dictionary\u001b[0m\u001b[0;34m(\u001b[0m\u001b[0;34m)\u001b[0m\u001b[0;34m\u001b[0m\u001b[0m\n\u001b[0m\u001b[1;32m     55\u001b[0m \u001b[0;34m\u001b[0m\u001b[0m\n\u001b[1;32m     56\u001b[0m     lda = LdaModel(corpus=corpus,\n",
      "\u001b[0;32m<ipython-input-1-62edcd9cf0da>\u001b[0m in \u001b[0;36mget_corpus_dictionary\u001b[0;34m()\u001b[0m\n\u001b[1;32m     25\u001b[0m \u001b[0;34m\u001b[0m\u001b[0m\n\u001b[1;32m     26\u001b[0m     \u001b[0mcorpus\u001b[0m \u001b[0;34m=\u001b[0m \u001b[0;34m[\u001b[0m\u001b[0;34m]\u001b[0m\u001b[0;34m\u001b[0m\u001b[0m\n\u001b[0;32m---> 27\u001b[0;31m     \u001b[0;32mwith\u001b[0m \u001b[0mopen\u001b[0m\u001b[0;34m(\u001b[0m\u001b[0;34m'reviews_pmc_4443_0.7.txt'\u001b[0m\u001b[0;34m,\u001b[0m \u001b[0;34m'r'\u001b[0m\u001b[0;34m)\u001b[0m \u001b[0;32mas\u001b[0m \u001b[0mf\u001b[0m\u001b[0;34m:\u001b[0m\u001b[0;34m\u001b[0m\u001b[0m\n\u001b[0m\u001b[1;32m     28\u001b[0m         \u001b[0mcontents\u001b[0m \u001b[0;34m=\u001b[0m \u001b[0mf\u001b[0m\u001b[0;34m.\u001b[0m\u001b[0mreadlines\u001b[0m\u001b[0;34m(\u001b[0m\u001b[0;34m)\u001b[0m\u001b[0;34m\u001b[0m\u001b[0m\n\u001b[1;32m     29\u001b[0m         \u001b[0mstopWords\u001b[0m \u001b[0;34m=\u001b[0m \u001b[0mset\u001b[0m\u001b[0;34m(\u001b[0m\u001b[0mstopwords\u001b[0m\u001b[0;34m.\u001b[0m\u001b[0mwords\u001b[0m\u001b[0;34m(\u001b[0m\u001b[0;34m'english'\u001b[0m\u001b[0;34m)\u001b[0m\u001b[0;34m)\u001b[0m\u001b[0;34m\u001b[0m\u001b[0m\n",
      "\u001b[0;31mIOError\u001b[0m: [Errno 2] No such file or directory: 'reviews_pmc_4443_0.7.txt'"
     ],
     "output_type": "error"
    }
   ],
   "source": [
    "from gensim.models import LdaModel, HdpModel\n",
    "from gensim.corpora.dictionary import Dictionary\n",
    "import nltk\n",
    "from nltk.corpus import stopwords\n",
    "import pyLDAvis.gensim\n",
    "import os\n",
    "import sys\n",
    "\n",
    "reload(sys).setdefaultencoding(\"utf8\")\n",
    "\n",
    "def get_corpus_dictionary():\n",
    "    \"\"\"Crafts a toy corpus and the dictionary associated.\"\"\"\n",
    "    # Toy corpus.\n",
    "    # corpus = [\n",
    "    #     ['carrot', 'salad', 'tomato'],\n",
    "    #     ['carrot', 'salad', 'dish'],\n",
    "    #     ['tomato', 'dish'],\n",
    "    #     ['tomato', 'salad'],\n",
    "    # \n",
    "    #     ['car', 'break', 'highway'],\n",
    "    #     ['highway', 'accident', 'car'],\n",
    "    #     ['moto', 'break'],\n",
    "    #     ['accident', 'moto', 'car']\n",
    "    # ]\n",
    "    \n",
    "    corpus = []\n",
    "    with open('reviews_pmc_4443_0.7.txt', 'r') as f:\n",
    "        contents = f.readlines()\n",
    "        stopWords = set(stopwords.words('english'))\n",
    "    \n",
    "        for line in contents:\n",
    "            sentence = nltk.word_tokenize(line)\n",
    "            words = []\n",
    "            for w in sentence:\n",
    "                if w not in stopWords \\\n",
    "                and not w.isdigit() \\\n",
    "                and w not in '<' \\\n",
    "                and w not in '>'\\\n",
    "                and w not in '('\\\n",
    "                and w not in ')'\\\n",
    "                and w not in ':'\\\n",
    "                and w not in ']'\\\n",
    "                and w not in '['\\\n",
    "                and w not in '='\\\n",
    "                and w != 'eos':\n",
    "#                     if w == 'eos':\n",
    "#                         w = '<eos>'\n",
    "                    words.append(w)\n",
    "            corpus.append(words)\n",
    "    print corpus[:10]\n",
    "    dictionary = Dictionary(corpus)\n",
    "\n",
    "    # Transforming corpus with dictionary.\n",
    "    corpus = [dictionary.doc2bow(doc) for doc in corpus]\n",
    "    print corpus[:10]\n",
    "    # Building reverse index.\n",
    "    for (token, uid) in dictionary.token2id.items():\n",
    "        dictionary.id2token[uid] = token\n",
    "    \n",
    "    return corpus, dictionary\n",
    "\n",
    "def lda():\n",
    "    \"\"\"Trains a LDA model and tests the html outputs.\"\"\"\n",
    "    corpus, dictionary = get_corpus_dictionary()\n",
    "\n",
    "    lda = LdaModel(corpus=corpus,\n",
    "                   num_topics=5)\n",
    "    print 'lda'\n",
    "    data = pyLDAvis.gensim.prepare(lda, corpus, dictionary)\n",
    "    print 'data'\n",
    "    pyLDAvis.save_html(data, 'index_lda_5_0.7.html')\n",
    "    print 'done'\n",
    "\n",
    "\n",
    "if __name__ == \"__main__\":\n",
    "    lda()\n",
    "    # test_hdp()\n"
   ]
  },
  {
   "cell_type": "code",
   "execution_count": null,
   "metadata": {},
   "outputs": [],
   "source": []
  }
 ],
 "metadata": {
  "kernelspec": {
   "display_name": "Python 2",
   "language": "python",
   "name": "python2"
  },
  "language_info": {
   "codemirror_mode": {
    "name": "ipython",
    "version": 2
   },
   "file_extension": ".py",
   "mimetype": "text/x-python",
   "name": "python",
   "nbconvert_exporter": "python",
   "pygments_lexer": "ipython2",
   "version": "2.7.15"
  }
 },
 "nbformat": 4,
 "nbformat_minor": 2
}
